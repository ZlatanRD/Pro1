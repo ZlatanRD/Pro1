{
  "nbformat": 4,
  "nbformat_minor": 0,
  "metadata": {
    "colab": {
      "name": "Car_price_prediction.ipynb",
      "provenance": [],
      "collapsed_sections": []
    },
    "kernelspec": {
      "name": "python3",
      "display_name": "Python 3"
    },
    "language_info": {
      "name": "python"
    }
  },
  "cells": [
    {
      "cell_type": "code",
      "execution_count": 57,
      "metadata": {
        "id": "kBKfvC_-39Sc"
      },
      "outputs": [],
      "source": [
        "import pandas as pd\n",
        "import matplotlib.pyplot as plt\n",
        "import seaborn as sns\n",
        "from sklearn.model_selection import train_test_split\n",
        "from sklearn.linear_model import LinearRegression\n",
        "from sklearn.linear_model import Lasso\n",
        "from sklearn import metrics"
      ]
    },
    {
      "cell_type": "code",
      "source": [
        "car_dataset = pd.read_csv('/content/train_data.csv')"
      ],
      "metadata": {
        "id": "BrXvVAIq5eQk"
      },
      "execution_count": 58,
      "outputs": []
    },
    {
      "cell_type": "code",
      "source": [
        "car_dataset\n",
        "car_dataset.info()"
      ],
      "metadata": {
        "colab": {
          "base_uri": "https://localhost:8080/"
        },
        "id": "SK-OAA957H2q",
        "outputId": "405f82cc-6069-44a7-a2eb-b5db40612306"
      },
      "execution_count": 59,
      "outputs": [
        {
          "output_type": "stream",
          "name": "stdout",
          "text": [
            "<class 'pandas.core.frame.DataFrame'>\n",
            "RangeIndex: 208764 entries, 0 to 208763\n",
            "Data columns (total 16 columns):\n",
            " #   Column                 Non-Null Count   Dtype \n",
            "---  ------                 --------------   ----- \n",
            " 0   id                     208764 non-null  int64 \n",
            " 1   seller                 208764 non-null  object\n",
            " 2   offer_type             208764 non-null  object\n",
            " 3   price                  208764 non-null  int64 \n",
            " 4   abtest                 208764 non-null  object\n",
            " 5   vehicle_type           208764 non-null  object\n",
            " 6   year_of_registration   208764 non-null  int64 \n",
            " 7   gearbox                208764 non-null  object\n",
            " 8   power                  208764 non-null  int64 \n",
            " 9   model                  208764 non-null  object\n",
            " 10  kilometer              208764 non-null  int64 \n",
            " 11  month_of_registration  208764 non-null  int64 \n",
            " 12  fuel_type              208764 non-null  object\n",
            " 13  brand                  208764 non-null  object\n",
            " 14  not_repaired_damage    208764 non-null  object\n",
            " 15  postal_code            208764 non-null  int64 \n",
            "dtypes: int64(7), object(9)\n",
            "memory usage: 25.5+ MB\n"
          ]
        }
      ]
    },
    {
      "cell_type": "code",
      "source": [
        "seller_data = car_dataset.seller.value_counts()\n",
        "seller_data"
      ],
      "metadata": {
        "colab": {
          "base_uri": "https://localhost:8080/"
        },
        "id": "I4Ja2KZW8U1Z",
        "outputId": "e8d402f5-a638-4476-920e-e80c38ed2efd"
      },
      "execution_count": 60,
      "outputs": [
        {
          "output_type": "execute_result",
          "data": {
            "text/plain": [
              "privat        208762\n",
              "gewerblich         2\n",
              "Name: seller, dtype: int64"
            ]
          },
          "metadata": {},
          "execution_count": 60
        }
      ]
    },
    {
      "cell_type": "code",
      "source": [
        "# encoding \"Fuel_Type\" Column\n",
        "car_dataset.replace({'seller':{'privat':0,'gewerblich':1}},inplace=True)\n",
        "\n",
        "# encoding \"Seller_Type\" Column\n",
        "car_dataset.replace({'offer_type':{'Angebot':0,'Gesuch':1}},inplace=True)\n",
        "\n",
        "# encoding \"Transmission\" Column\n",
        "car_dataset.replace({'abtest':{'test':0,'control':1}},inplace=True)\n",
        "\n",
        "car_dataset.replace({'vehicle_type':{'limousine':0,'kleinwagen':1, 'kombi':2, 'bus' : 3, 'cabrio':4 , 'coupe':5 , 'suv' :6, 'andere':7 }},inplace=True)\n",
        "\n",
        "car_dataset.replace({'gearbox':{'manuell':0,'automatik':1 }},inplace=True)\n",
        "\n",
        "car_dataset.replace({'fuel_type':{'benzin':0,'diesel':1 , 'lpg':2, 'cng':3 , 'hybrid':4 , 'elektro':5 ,  'andere':6  }},inplace=True)\n",
        "\n",
        "car_dataset.replace({'not_repaired_damage':{'nein':0,'ja':1 }},inplace=True)"
      ],
      "metadata": {
        "id": "5W5hfdwTAJxP"
      },
      "execution_count": 61,
      "outputs": []
    },
    {
      "cell_type": "code",
      "source": [
        "\n",
        "print(car_dataset.offer_type.value_counts())\n",
        "print(car_dataset.abtest.value_counts())\n",
        "print(car_dataset.vehicle_type.value_counts())\n",
        "print(car_dataset.gearbox.value_counts())\n",
        "print(car_dataset.model.value_counts())\n",
        "print(car_dataset.fuel_type.value_counts())\n",
        "print(car_dataset.brand.value_counts())\n",
        "print(car_dataset.not_repaired_damage.value_counts())\n",
        "\n",
        "\n"
      ],
      "metadata": {
        "colab": {
          "base_uri": "https://localhost:8080/"
        },
        "id": "7UAlK0VM_InD",
        "outputId": "fd94d4e4-879f-436b-c8f1-bcf56e83f6ee"
      },
      "execution_count": 62,
      "outputs": [
        {
          "output_type": "stream",
          "name": "stdout",
          "text": [
            "0    208761\n",
            "1         3\n",
            "Name: offer_type, dtype: int64\n",
            "0    108590\n",
            "1    100174\n",
            "Name: abtest, dtype: int64\n",
            "0    61082\n",
            "1    47418\n",
            "2    42676\n",
            "3    19882\n",
            "4    14892\n",
            "5    11759\n",
            "6     9629\n",
            "7     1426\n",
            "Name: vehicle_type, dtype: int64\n",
            "0    159980\n",
            "1     48784\n",
            "Name: gearbox, dtype: int64\n",
            "golf               16765\n",
            "andere             16242\n",
            "3er                12583\n",
            "polo                7021\n",
            "corsa               6655\n",
            "                   ...  \n",
            "i3                     4\n",
            "rangerover             3\n",
            "serie_3                3\n",
            "samara                 2\n",
            "discovery_sport        1\n",
            "Name: model, Length: 250, dtype: int64\n",
            "0    135504\n",
            "1     69416\n",
            "2      3183\n",
            "3       366\n",
            "4       180\n",
            "6        66\n",
            "5        49\n",
            "Name: fuel_type, dtype: int64\n",
            "volkswagen       43302\n",
            "bmw              24342\n",
            "mercedes_benz    21473\n",
            "opel             21157\n",
            "audi             19701\n",
            "ford             13978\n",
            "renault           9337\n",
            "peugeot           6270\n",
            "fiat              5144\n",
            "seat              4049\n",
            "skoda             3634\n",
            "mazda             3217\n",
            "toyota            2941\n",
            "citroen           2922\n",
            "nissan            2898\n",
            "smart             2703\n",
            "mini              2309\n",
            "hyundai           2203\n",
            "volvo             2083\n",
            "mitsubishi        1636\n",
            "honda             1572\n",
            "kia               1526\n",
            "porsche           1496\n",
            "alfa_romeo        1385\n",
            "suzuki            1369\n",
            "chevrolet         1089\n",
            "chrysler           816\n",
            "dacia              592\n",
            "jeep               500\n",
            "land_rover         487\n",
            "subaru             439\n",
            "daihatsu           427\n",
            "jaguar             393\n",
            "saab               343\n",
            "lancia             268\n",
            "daewoo             263\n",
            "rover              208\n",
            "trabant            181\n",
            "lada               111\n",
            "Name: brand, dtype: int64\n",
            "0    186424\n",
            "1     22340\n",
            "Name: not_repaired_damage, dtype: int64\n"
          ]
        }
      ]
    },
    {
      "cell_type": "code",
      "source": [
        "X = car_dataset.drop(['brand','price','model'],axis=1)\n",
        "Y = car_dataset['price']\n",
        "X.head()\n",
        "Y.head()"
      ],
      "metadata": {
        "id": "_VwXt5yQDn_h",
        "colab": {
          "base_uri": "https://localhost:8080/"
        },
        "outputId": "bf62c99d-8851-42cc-c176-21030abba2b2"
      },
      "execution_count": 63,
      "outputs": [
        {
          "output_type": "execute_result",
          "data": {
            "text/plain": [
              "0     8990\n",
              "1    49900\n",
              "2     7500\n",
              "3     1350\n",
              "4      650\n",
              "Name: price, dtype: int64"
            ]
          },
          "metadata": {},
          "execution_count": 63
        }
      ]
    },
    {
      "cell_type": "code",
      "source": [
        "X_train = X\n",
        "Y_train = Y"
      ],
      "metadata": {
        "id": "vKhubqP8EeV-"
      },
      "execution_count": 64,
      "outputs": []
    },
    {
      "cell_type": "code",
      "source": [
        "# loading the linear regression model\n",
        "lin_reg_model = LinearRegression()"
      ],
      "metadata": {
        "id": "nKIzKchnGJ6S"
      },
      "execution_count": 65,
      "outputs": []
    },
    {
      "cell_type": "code",
      "source": [
        "lin_reg_model.fit(X_train,Y_train)"
      ],
      "metadata": {
        "colab": {
          "base_uri": "https://localhost:8080/"
        },
        "id": "4CTCqyHJGKmd",
        "outputId": "e901db20-04d0-423a-8943-a7de5694bb75"
      },
      "execution_count": 66,
      "outputs": [
        {
          "output_type": "execute_result",
          "data": {
            "text/plain": [
              "LinearRegression()"
            ]
          },
          "metadata": {},
          "execution_count": 66
        }
      ]
    },
    {
      "cell_type": "code",
      "source": [
        "training_data_prediction = lin_reg_model.predict(X_train)\n",
        "training_data_prediction"
      ],
      "metadata": {
        "colab": {
          "base_uri": "https://localhost:8080/"
        },
        "id": "PM9Tp2G0GTWa",
        "outputId": "8d1bef75-ec0d-4a47-9fcd-7a87bcf99102"
      },
      "execution_count": 71,
      "outputs": [
        {
          "output_type": "execute_result",
          "data": {
            "text/plain": [
              "array([10925.56998578, 27054.27866703,  3465.46427259, ...,\n",
              "       12675.04283181,   195.40519321, 15988.7295285 ])"
            ]
          },
          "metadata": {},
          "execution_count": 71
        }
      ]
    },
    {
      "cell_type": "code",
      "source": [
        "# R squared Error\n",
        "error_score = metrics.r2_score(Y_train, training_data_prediction)\n",
        "print(\"R squared Error : \", error_score)"
      ],
      "metadata": {
        "colab": {
          "base_uri": "https://localhost:8080/"
        },
        "id": "AaLZ1MmKGT0b",
        "outputId": "b58d5b97-4505-47bc-edad-7bae87367221"
      },
      "execution_count": 69,
      "outputs": [
        {
          "output_type": "stream",
          "name": "stdout",
          "text": [
            "R squared Error :  0.0003713678578620705\n"
          ]
        }
      ]
    },
    {
      "cell_type": "code",
      "source": [
        "plt.scatter(Y_train, training_data_prediction)\n",
        "plt.xlabel(\"Actual Price\")\n",
        "plt.ylabel(\"Predicted Price\")\n",
        "plt.title(\" Actual Prices vs Predicted Prices\")\n",
        "plt.show()"
      ],
      "metadata": {
        "colab": {
          "base_uri": "https://localhost:8080/",
          "height": 295
        },
        "id": "cvJm9k0EH3kV",
        "outputId": "10755d81-5660-485b-f132-102ab19c140d"
      },
      "execution_count": 72,
      "outputs": [
        {
          "output_type": "display_data",
          "data": {
            "text/plain": [
              "<Figure size 432x288 with 1 Axes>"
            ],
            "image/png": "[encoded data removed]"
          },
          "metadata": {
            "needs_background": "light"
          }
        }
      ]
    },
    {
      "cell_type": "code",
      "source": [
        "lass_reg_model = Lasso()"
      ],
      "metadata": {
        "id": "MiKlIuhsIsVj"
      },
      "execution_count": 73,
      "outputs": []
    },
    {
      "cell_type": "code",
      "source": [
        "lass_reg_model.fit(X_train,Y_train)"
      ],
      "metadata": {
        "colab": {
          "base_uri": "https://localhost:8080/"
        },
        "id": "KULzwO3XIvBi",
        "outputId": "dbc3b65a-5ec8-4161-f4ec-b5bc1fe34a25"
      },
      "execution_count": 74,
      "outputs": [
        {
          "output_type": "execute_result",
          "data": {
            "text/plain": [
              "Lasso()"
            ]
          },
          "metadata": {},
          "execution_count": 74
        }
      ]
    },
    {
      "cell_type": "code",
      "source": [
        "# prediction on Training data\n",
        "training_data_prediction = lass_reg_model.predict(X_train)"
      ],
      "metadata": {
        "id": "Wm4spD4MIw6w"
      },
      "execution_count": 75,
      "outputs": []
    },
    {
      "cell_type": "code",
      "source": [
        "# R squared Error\n",
        "error_score = metrics.r2_score(Y_train, training_data_prediction)\n",
        "print(\"R squared Error : \", error_score)"
      ],
      "metadata": {
        "colab": {
          "base_uri": "https://localhost:8080/"
        },
        "id": "aLLncAILIzLC",
        "outputId": "b43ec988-53d2-4161-9a32-90af85bfd442"
      },
      "execution_count": 76,
      "outputs": [
        {
          "output_type": "stream",
          "name": "stdout",
          "text": [
            "R squared Error :  0.0003713654331269911\n"
          ]
        }
      ]
    },
    {
      "cell_type": "code",
      "source": [
        "plt.scatter(Y_train, training_data_prediction)\n",
        "plt.xlabel(\"Actual Price\")\n",
        "plt.ylabel(\"Predicted Price\")\n",
        "plt.title(\" Actual Prices vs Predicted Prices\")\n",
        "plt.show()"
      ],
      "metadata": {
        "colab": {
          "base_uri": "https://localhost:8080/",
          "height": 295
        },
        "id": "3WStiymZI1hk",
        "outputId": "197d7a5a-04b5-4385-d916-59567b0c9200"
      },
      "execution_count": 78,
      "outputs": [
        {
          "output_type": "display_data",
          "data": {
            "text/plain": [
              "<Figure size 432x288 with 1 Axes>"
            ],
            "image/png": "[encoded data removed]"
          },
          "metadata": {
            "needs_background": "light"
          }
        }
      ]
    },
    {
      "cell_type": "code",
      "source": [
        "car_dataset = pd.read_csv('/content/test_data.csv')\n",
        "\n",
        "\n",
        "# encoding \"Fuel_Type\" Column\n",
        "car_dataset.replace({'seller':{'privat':0,'gewerblich':1}},inplace=True)\n",
        "\n",
        "# encoding \"Seller_Type\" Column\n",
        "car_dataset.replace({'offer_type':{'Angebot':0,'Gesuch':1}},inplace=True)\n",
        "\n",
        "# encoding \"Transmission\" Column\n",
        "car_dataset.replace({'abtest':{'test':0,'control':1}},inplace=True)\n",
        "\n",
        "car_dataset.replace({'vehicle_type':{'limousine':0,'kleinwagen':1, 'kombi':2, 'bus' : 3, 'cabrio':4 , 'coupe':5 , 'suv' :6, 'andere':7 }},inplace=True)\n",
        "\n",
        "car_dataset.replace({'gearbox':{'manuell':0,'automatik':1 }},inplace=True)\n",
        "\n",
        "car_dataset.replace({'fuel_type':{'benzin':0,'diesel':1 , 'lpg':2, 'cng':3 , 'hybrid':4 , 'elektro':5 ,  'andere':6  }},inplace=True)\n",
        "\n",
        "car_dataset.replace({'not_repaired_damage':{'nein':0,'ja':1 }},inplace=True)\n",
        "\n",
        "\n",
        "\n",
        "print(car_dataset.offer_type.value_counts())\n",
        "print(car_dataset.abtest.value_counts())\n",
        "print(car_dataset.vehicle_type.value_counts())\n",
        "print(car_dataset.gearbox.value_counts())\n",
        "print(car_dataset.model.value_counts())\n",
        "print(car_dataset.fuel_type.value_counts())\n",
        "print(car_dataset.brand.value_counts())\n",
        "print(car_dataset.not_repaired_damage.value_counts())\n",
        "\n",
        "\n",
        "X_test = car_dataset.drop(['brand','model'],axis=1)\n",
        "\n",
        "test_data_prediction = lin_reg_model.predict(X_test)\n",
        "df = pd.DataFrame(test_data_prediction)\n",
        "\n",
        "df\n",
        "\n",
        "df.to_csv(r'/content/test_data_prediction.csv',index = 'false')"
      ],
      "metadata": {
        "colab": {
          "base_uri": "https://localhost:8080/"
        },
        "id": "ud8lZ7FMKmGP",
        "outputId": "78b93e45-295e-4c77-fd6e-b7989fdfa9f3"
      },
      "execution_count": 84,
      "outputs": [
        {
          "output_type": "stream",
          "name": "stdout",
          "text": [
            "0    52191\n",
            "1        1\n",
            "Name: offer_type, dtype: int64\n",
            "0    26928\n",
            "1    25264\n",
            "Name: abtest, dtype: int64\n",
            "0    15312\n",
            "1    11685\n",
            "2    10766\n",
            "3     5081\n",
            "4     3657\n",
            "5     2892\n",
            "6     2453\n",
            "7      346\n",
            "Name: vehicle_type, dtype: int64\n",
            "0    40079\n",
            "1    12113\n",
            "Name: gearbox, dtype: int64\n",
            "golf          4193\n",
            "andere        4052\n",
            "3er           3062\n",
            "polo          1807\n",
            "corsa         1612\n",
            "              ... \n",
            "i3               1\n",
            "rangerover       1\n",
            "samara           1\n",
            "kappa            1\n",
            "elefantino       1\n",
            "Name: model, Length: 246, dtype: int64\n",
            "0    33738\n",
            "1    17558\n",
            "2      754\n",
            "3       94\n",
            "4       33\n",
            "5        8\n",
            "6        7\n",
            "Name: fuel_type, dtype: int64\n",
            "volkswagen       10892\n",
            "bmw               5989\n",
            "mercedes_benz     5433\n",
            "opel              5233\n",
            "audi              5071\n",
            "ford              3469\n",
            "renault           2335\n",
            "peugeot           1581\n",
            "fiat              1221\n",
            "seat               968\n",
            "skoda              902\n",
            "mazda              822\n",
            "citroen            768\n",
            "toyota             762\n",
            "nissan             696\n",
            "smart              649\n",
            "hyundai            584\n",
            "mini               568\n",
            "volvo              505\n",
            "kia                444\n",
            "mitsubishi         439\n",
            "honda              374\n",
            "porsche            370\n",
            "alfa_romeo         319\n",
            "suzuki             314\n",
            "chevrolet          259\n",
            "chrysler           209\n",
            "land_rover         148\n",
            "dacia              131\n",
            "jeep               116\n",
            "subaru             111\n",
            "jaguar              94\n",
            "daihatsu            93\n",
            "saab                78\n",
            "daewoo              74\n",
            "rover               54\n",
            "lancia              52\n",
            "lada                35\n",
            "trabant             30\n",
            "Name: brand, dtype: int64\n",
            "0    46522\n",
            "1     5670\n",
            "Name: not_repaired_damage, dtype: int64\n"
          ]
        }
      ]
    }
  ]
}